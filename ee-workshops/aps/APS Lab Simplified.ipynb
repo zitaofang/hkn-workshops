{
 "cells": [
  {
   "cell_type": "markdown",
   "metadata": {},
   "source": [
    "# EECS Day Lab: Acoustic Positioning System"
   ]
  },
  {
   "cell_type": "markdown",
   "metadata": {},
   "source": [
    "This lab will help you create a system that can tell where it is by listening to the sounds only. It works in the same way as GPS on your phone: both of them \"listen\" to the signals sent by several beacons located at different locations to find out how long would it take to receive the signal after the beacon sends it; with signals from more than 3 beacons, they would be able to determine precisely the location of the system. \n",
    "\n",
    "Please run the following cell to set up the environment:"
   ]
  },
  {
   "cell_type": "code",
   "execution_count": 3,
   "metadata": {},
   "outputs": [],
   "source": [
    "import numpy as np\n",
    "import matplotlib.pyplot as plt"
   ]
  },
  {
   "cell_type": "markdown",
   "metadata": {},
   "source": [
    "## Part 1: Separating Beacon Signal"
   ]
  },
  {
   "cell_type": "markdown",
   "metadata": {},
   "source": [
    "(An intro to why we need to separate beacon signal: we need to separate signal to find out which beacon is transmitting signal and how long it takes to reach the microphone.)\n",
    "\n",
    "Since sounds are waves, we can plot them in a graph:\n",
    "(include a plot of sound wave sample)\n",
    "Does this remind you of something? Yes, they are just like the function graph you have seen but have slightly more spikes and troughs! In fact, sound waves are just functions that doesn't have an explicit expression. As a result, we could represent this sound sample with a series of points just as other functions:\n",
    "\n",
    "$$(0, y_0), (1, y_1), \\dots$$\n",
    "\n",
    "To simplify it even more, we could just represent them with an array of $y$ in which they are ordered by their times. \n",
    "\n",
    "$$[y_0, y_1, \\dots]$$\n",
    "\n",
    "In linear algebra, an array like this is called **vector**. But don't worrying about the term too much now - you don't need to understand linear algebra to finish this lab.\n",
    "\n",
    "How can we know if the signal we received (contaminated with noises) is the same signal from the beacon that we know? To make the signal recognizable, we would send a special type of waves - Gold Code - that can be easily detected even with other signals and noise presents. \n",
    "\n",
    "To know how Gold Code works, let's examine the case when we are given two sound samples with the same length and asked to find out how similar they are. Run the following block to see how the samples look like:"
   ]
  },
  {
   "cell_type": "code",
   "execution_count": 9,
   "metadata": {},
   "outputs": [
    {
     "data": {
      "image/png": "[encoded data removed]",
      "text/plain": [
       "<Figure size 432x288 with 1 Axes>"
      ]
     },
     "metadata": {
      "needs_background": "light"
     },
     "output_type": "display_data"
    },
    {
     "data": {
      "image/png": "[encoded data removed]",
      "text/plain": [
       "<Figure size 432x288 with 1 Axes>"
      ]
     },
     "metadata": {
      "needs_background": "light"
     },
     "output_type": "display_data"
    }
   ],
   "source": [
    "sample_a = [1, 0, 2, 1, -3, -1, -1, 1]\n",
    "sample_b = [2, -1, 3, 0, -2, -2, 1, -1]\n",
    "\n",
    "# Plot the sample\n",
    "plt.plot(range(0, 8), sample_a)\n",
    "plt.title(\"Sample A\")\n",
    "plt.show()\n",
    "\n",
    "plt.plot(range(0, 8), sample_b)\n",
    "plt.title(\"Sample B\")\n",
    "plt.show()"
   ]
  },
  {
   "cell_type": "markdown",
   "metadata": {},
   "source": [
    "One of the idea to measure the similarity between code is to multiply the first elements of `sample_a` and the first elements of `sample_b`, the second elements of both samples... then add them together. The greater the value it is, the more similar they are. But does this work? \n",
    "\n",
    "**(Algorithm description needs revision!)**\n",
    "\n",
    "First, please implement this function in the following cell:"
   ]
  },
  {
   "cell_type": "code",
   "execution_count": null,
   "metadata": {},
   "outputs": [],
   "source": [
    "def multiply_and_sum(a, b):\n",
    "    pass"
   ]
  },
  {
   "cell_type": "markdown",
   "metadata": {},
   "source": [
    "Then, run the following cell to see if this algorithm work:"
   ]
  },
  {
   "cell_type": "code",
   "execution_count": 10,
   "metadata": {},
   "outputs": [
    {
     "name": "stdout",
     "output_type": "stream",
     "text": [
      "Sum of products of elements between sample_a and sample_b: 14\n",
      "Sum of products of elements between sample_a and sample_a itself: 18\n"
     ]
    }
   ],
   "source": [
    "sum_ab = 0\n",
    "sum_aa = 0\n",
    "\n",
    "for i in range(8):\n",
    "    sum_ab = sum_ab + sample_a[i] * sample_b[i]\n",
    "    sum_aa = sum_aa + sample_a[i] * sample_a[i]\n",
    "    \n",
    "print(\"Sum of products of elements between sample_a and sample_b:\", sum_ab)\n",
    "print(\"Sum of products of elements between sample_a and sample_a itself:\", sum_aa)"
   ]
  },
  {
   "cell_type": "markdown",
   "metadata": {},
   "source": [
    "It works! The similarity between a sample and itself is higher than that between two different samples according to our idea. \n",
    "\n",
    "(Explaining why it works - )\n",
    "\n",
    "As a side note, this calculation is called **inner product / dot product** in linear algebra, and the usage of it to compare two signals (in sound, radio, or something else) is called **cross-correlation**. Again, don't worry about the term too much - you will learn more about this in college level EE class."
   ]
  },
  {
   "cell_type": "markdown",
   "metadata": {},
   "source": [
    "Plan:\n",
    "- Explain the nature of Gold code\n",
    "- Provide blackbox code for cross-correlation (Probably not blackbox, teach them what's actual cross-correlation and ask them to implement)"
   ]
  },
  {
   "cell_type": "markdown",
   "metadata": {},
   "source": [
    "## Part 2: Calculating Distance and Determining Position"
   ]
  },
  {
   "cell_type": "markdown",
   "metadata": {},
   "source": [
    "Plan:\n",
    "- explain trilateration - how they are turned into two linear system\n",
    "- ask students to implement gaussian elimination here"
   ]
  },
  {
   "cell_type": "markdown",
   "metadata": {},
   "source": [
    "## Part 3: Run! "
   ]
  },
  {
   "cell_type": "markdown",
   "metadata": {},
   "source": [
    "Plan: \n",
    "- Connect microphone to MSP\n",
    "- Setup beacon, ask the student to walk around with MSP, show them the result"
   ]
  },
  {
   "cell_type": "code",
   "execution_count": null,
   "metadata": {},
   "outputs": [],
   "source": []
  }
 ],
 "metadata": {
  "kernelspec": {
   "display_name": "Python 3",
   "language": "python",
   "name": "python3"
  },
  "language_info": {
   "codemirror_mode": {
    "name": "ipython",
    "version": 3
   },
   "file_extension": ".py",
   "mimetype": "text/x-python",
   "name": "python",
   "nbconvert_exporter": "python",
   "pygments_lexer": "ipython3",
   "version": "3.7.3"
  }
 },
 "nbformat": 4,
 "nbformat_minor": 2
}
